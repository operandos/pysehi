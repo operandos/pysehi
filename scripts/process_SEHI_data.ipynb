{
 "cells": [
  {
   "cell_type": "markdown",
   "id": "750bbbdc",
   "metadata": {},
   "source": [
    "## Pre process SEHI data for input to the CSEHI application"
   ]
  },
  {
   "cell_type": "markdown",
   "id": "5154f3f0",
   "metadata": {},
   "source": [
    "Input the path to the pysehi folder (with python files **pysehi.py** and **output.py**) and add it to the system path."
   ]
  },
  {
   "cell_type": "code",
   "execution_count": null,
   "id": "2d518f1f",
   "metadata": {},
   "outputs": [],
   "source": [
    "path_to_pysehi = input(r'path to pysehi folder:   ')\n",
    "\n",
    "import sys\n",
    "sys.path.append(path_to_pysehi)\n",
    "\n",
    "import pysehi"
   ]
  },
  {
   "cell_type": "markdown",
   "id": "0a07981d",
   "metadata": {},
   "source": [
    "Input the path to the raw data folder you want to process\n",
    "eg. *'Data\\Raw\\CSEHI\\221201\\spider_silk'*"
   ]
  },
  {
   "cell_type": "code",
   "execution_count": null,
   "id": "e6c29398",
   "metadata": {},
   "outputs": [],
   "source": [
    "path_to_raw_data = input(r'path to raw data folder:   ')\n",
    "pysehi.process_files(path_to_raw_data)"
   ]
  },
  {
   "cell_type": "markdown",
   "id": "516b92c8",
   "metadata": {},
   "source": [
    "Find the outputs in the reflected *Processed* data folder eg. *'Data\\Processed\\CSEHI\\221201\\spider_silk'*"
   ]
  }
 ],
 "metadata": {
  "kernelspec": {
   "display_name": "Python 3",
   "language": "python",
   "name": "python3"
  },
  "language_info": {
   "codemirror_mode": {
    "name": "ipython",
    "version": 3
   },
   "file_extension": ".py",
   "mimetype": "text/x-python",
   "name": "python",
   "nbconvert_exporter": "python",
   "pygments_lexer": "ipython3",
   "version": "3.8.10"
  }
 },
 "nbformat": 4,
 "nbformat_minor": 5
}
